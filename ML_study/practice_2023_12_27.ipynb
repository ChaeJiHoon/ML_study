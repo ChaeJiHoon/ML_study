{
 "cells": [
  {
   "cell_type": "markdown",
   "id": "47cc3209",
   "metadata": {},
   "source": [
    "#### 2023_12_27일자 연습"
   ]
  },
  {
   "cell_type": "markdown",
   "id": "830d68f0",
   "metadata": {},
   "source": [
    "format 함수"
   ]
  },
  {
   "cell_type": "markdown",
   "id": "71c1d166",
   "metadata": {},
   "source": [
    "2개 이상의 값 넣기"
   ]
  },
  {
   "cell_type": "code",
   "execution_count": 13,
   "id": "6d028778",
   "metadata": {},
   "outputs": [
    {
     "data": {
      "text/plain": [
       "'I ate 10 apples. so I was sick for three days'"
      ]
     },
     "execution_count": 13,
     "metadata": {},
     "output_type": "execute_result"
    }
   ],
   "source": [
    "number = 10\n",
    "day = \"three\"\n",
    "\"I ate {0} apples. so I was sick for {1} days\".format(number, day)\n",
    "#{0},{1} 과 같은 인덱스 항목이 format 함수의 입력값으로 순서에 맞게 바뀜"
   ]
  },
  {
   "cell_type": "markdown",
   "id": "cfe53219",
   "metadata": {},
   "source": [
    "이름으로 넣기"
   ]
  },
  {
   "cell_type": "code",
   "execution_count": 17,
   "id": "90943d64",
   "metadata": {},
   "outputs": [
    {
     "data": {
      "text/plain": [
       "'I ate 7 apples. so I was sick for 2 days'"
      ]
     },
     "execution_count": 17,
     "metadata": {},
     "output_type": "execute_result"
    }
   ],
   "source": [
    "\"I ate {number} apples. so I was sick for {day} days\".format( day=2,number=7)\n",
    "# {0},{1} 같은 인덱스가 아닌 {name}형태 사용 \n",
    "# {name} 형태를 사용할 경우 반드시 name = value 의 형태의 입력값이 있어야만함\n",
    "# {name} 형태 사용시 format 함수에서 순서는 별로 중요하지 않음"
   ]
  },
  {
   "cell_type": "code",
   "execution_count": 14,
   "id": "6646fe63",
   "metadata": {},
   "outputs": [
    {
     "data": {
      "text/plain": [
       "'I ate 7 apples. so I was sick for 2 days'"
      ]
     },
     "execution_count": 14,
     "metadata": {},
     "output_type": "execute_result"
    }
   ],
   "source": [
    "\"I ate {0} apples. so I was sick for {day} days\".format(7, day=2)"
   ]
  },
  {
   "cell_type": "markdown",
   "id": "ae5e4418",
   "metadata": {},
   "source": [
    "혼용 가능"
   ]
  },
  {
   "cell_type": "code",
   "execution_count": 15,
   "id": "af3c1fbe",
   "metadata": {},
   "outputs": [
    {
     "ename": "SyntaxError",
     "evalue": "positional argument follows keyword argument (1557707721.py, line 1)",
     "output_type": "error",
     "traceback": [
      "\u001b[1;36m  Cell \u001b[1;32mIn[15], line 1\u001b[1;36m\u001b[0m\n\u001b[1;33m    \"I ate {0} apples. so I was sick for {day} days\".format(day=2,7)\u001b[0m\n\u001b[1;37m                                                                   ^\u001b[0m\n\u001b[1;31mSyntaxError\u001b[0m\u001b[1;31m:\u001b[0m positional argument follows keyword argument\n"
     ]
    }
   ],
   "source": [
    "\"I ate {0} apples. so I was sick for {day} days\".format(day=2,7)"
   ]
  },
  {
   "cell_type": "markdown",
   "id": "55302004",
   "metadata": {},
   "source": [
    "혼용은 가능하지만 인덱스 사용시 순서는 중요"
   ]
  },
  {
   "cell_type": "markdown",
   "id": "ed898435",
   "metadata": {},
   "source": [
    "정렬문자"
   ]
  },
  {
   "cell_type": "code",
   "execution_count": 19,
   "id": "8440269b",
   "metadata": {},
   "outputs": [
    {
     "data": {
      "text/plain": [
       "'hi        '"
      ]
     },
     "execution_count": 19,
     "metadata": {},
     "output_type": "execute_result"
    }
   ],
   "source": [
    "\"{0:<10}\".format(\"hi\") # 왼쪽 정렬"
   ]
  },
  {
   "cell_type": "code",
   "execution_count": 20,
   "id": "5d2f69a6",
   "metadata": {},
   "outputs": [
    {
     "data": {
      "text/plain": [
       "'        hi'"
      ]
     },
     "execution_count": 20,
     "metadata": {},
     "output_type": "execute_result"
    }
   ],
   "source": [
    "\"{0:>10}\".format(\"hi\") # 오른쪽 정렬"
   ]
  },
  {
   "cell_type": "code",
   "execution_count": 21,
   "id": "3a703822",
   "metadata": {},
   "outputs": [
    {
     "data": {
      "text/plain": [
       "'    hi    '"
      ]
     },
     "execution_count": 21,
     "metadata": {},
     "output_type": "execute_result"
    }
   ],
   "source": [
    "\"{0:^10}\".format(\"hi\") # 가운데 정렬"
   ]
  },
  {
   "cell_type": "markdown",
   "id": "7cfd4b00",
   "metadata": {},
   "source": [
    "공백 채우기"
   ]
  },
  {
   "cell_type": "code",
   "execution_count": 22,
   "id": "b643eca8",
   "metadata": {},
   "outputs": [
    {
     "data": {
      "text/plain": [
       "'====hi===='"
      ]
     },
     "execution_count": 22,
     "metadata": {},
     "output_type": "execute_result"
    }
   ],
   "source": [
    "\"{0:=^10}\".format(\"hi\") # 가운데 정렬 및 공백 채우기"
   ]
  },
  {
   "cell_type": "code",
   "execution_count": 26,
   "id": "e971b268",
   "metadata": {},
   "outputs": [
    {
     "data": {
      "text/plain": [
       "'hi????????'"
      ]
     },
     "execution_count": 26,
     "metadata": {},
     "output_type": "execute_result"
    }
   ],
   "source": [
    "\"{0:?<10}\".format(\"hi\") # 왼쪽 정렬 및 공백 채우기"
   ]
  },
  {
   "cell_type": "code",
   "execution_count": 27,
   "id": "5d5e99c2",
   "metadata": {
    "scrolled": true
   },
   "outputs": [
    {
     "data": {
      "text/plain": [
       "'ㅗㅗㅗㅗㅗㅗㅗㅗhi'"
      ]
     },
     "execution_count": 27,
     "metadata": {},
     "output_type": "execute_result"
    }
   ],
   "source": [
    "\"{0:ㅗ>10}\".format(\"hi\") # 왼쪽 정렬 및 공백 채우기\n",
    "# 채워 넣을 문자 값은 정렬 문자 <,>,^ 앞에 넣어야함"
   ]
  },
  {
   "cell_type": "markdown",
   "id": "3a87778b",
   "metadata": {},
   "source": [
    "소수점 표현하기"
   ]
  },
  {
   "cell_type": "code",
   "execution_count": 29,
   "id": "c2ee9f13",
   "metadata": {},
   "outputs": [
    {
     "data": {
      "text/plain": [
       "'3.4213'"
      ]
     },
     "execution_count": 29,
     "metadata": {},
     "output_type": "execute_result"
    }
   ],
   "source": [
    "y = 3.42134234\n",
    "\"{0:0.4f}\".format(y)"
   ]
  },
  {
   "cell_type": "code",
   "execution_count": 30,
   "id": "490f69b9",
   "metadata": {},
   "outputs": [
    {
     "data": {
      "text/plain": [
       "'    3.4213'"
      ]
     },
     "execution_count": 30,
     "metadata": {},
     "output_type": "execute_result"
    }
   ],
   "source": [
    "\"{0:10.4f}\".format(y)"
   ]
  },
  {
   "cell_type": "markdown",
   "id": "7d991857",
   "metadata": {},
   "source": [
    "문자 표현하기"
   ]
  },
  {
   "cell_type": "code",
   "execution_count": 31,
   "id": "113afa5c",
   "metadata": {},
   "outputs": [
    {
     "data": {
      "text/plain": [
       "'{and}'"
      ]
     },
     "execution_count": 31,
     "metadata": {},
     "output_type": "execute_result"
    }
   ],
   "source": [
    "\"{{and}}\".format()\n",
    "# 문자를 사용하고 싶으면 중괄호 2개를써서 포매팅해야함"
   ]
  },
  {
   "cell_type": "code",
   "execution_count": 32,
   "id": "d11f3c3d",
   "metadata": {},
   "outputs": [
    {
     "ename": "KeyError",
     "evalue": "'and'",
     "output_type": "error",
     "traceback": [
      "\u001b[1;31m---------------------------------------------------------------------------\u001b[0m",
      "\u001b[1;31mKeyError\u001b[0m                                  Traceback (most recent call last)",
      "Cell \u001b[1;32mIn[32], line 1\u001b[0m\n\u001b[1;32m----> 1\u001b[0m \u001b[38;5;124;43m\"\u001b[39;49m\u001b[38;5;132;43;01m{and}\u001b[39;49;00m\u001b[38;5;124;43m\"\u001b[39;49m\u001b[38;5;241;43m.\u001b[39;49m\u001b[43mformat\u001b[49m\u001b[43m(\u001b[49m\u001b[43m)\u001b[49m\n",
      "\u001b[1;31mKeyError\u001b[0m: 'and'"
     ]
    }
   ],
   "source": [
    "\"{and}\".format()\n",
    "#아닐 경우 오류난다"
   ]
  },
  {
   "cell_type": "markdown",
   "id": "66b8a83e",
   "metadata": {},
   "source": [
    "f 문자열 포매팅(파이썬 버전 3.6부터 가능)"
   ]
  },
  {
   "cell_type": "code",
   "execution_count": 33,
   "id": "4b82a0d5",
   "metadata": {},
   "outputs": [
    {
     "data": {
      "text/plain": [
       "'나의 이름은 채지훈입니다. 나이는26입니다'"
      ]
     },
     "execution_count": 33,
     "metadata": {},
     "output_type": "execute_result"
    }
   ],
   "source": [
    "name = \"채지훈\"\n",
    "age = \"26\"\n",
    "f\"나의 이름은 {name}입니다. 나이는{age}입니다\"\n",
    "#f 접두사 사용시 간편함"
   ]
  },
  {
   "cell_type": "code",
   "execution_count": 35,
   "id": "fed1ea93",
   "metadata": {},
   "outputs": [
    {
     "data": {
      "text/plain": [
       "'나의 이름은 채지훈입니다. 나이는27입니다'"
      ]
     },
     "execution_count": 35,
     "metadata": {},
     "output_type": "execute_result"
    }
   ],
   "source": [
    "age = 26\n",
    "f\"나의 이름은 {name}입니다. 나이는{age+1}입니다\"\n",
    "#f 문자열 포매팅 또한 값 참조가 가능"
   ]
  },
  {
   "cell_type": "markdown",
   "id": "78a45b0b",
   "metadata": {},
   "source": [
    "딕셔너리 f 문자열 포매팅"
   ]
  },
  {
   "cell_type": "code",
   "execution_count": null,
   "id": "6d009fc5",
   "metadata": {},
   "outputs": [],
   "source": [
    "d = {'name':'홍길동', 'age':35}\n",
    "f'나의 이름은 {d[\"name\"]}입니다. 나이는 {d[\"age\"]}입니다.'"
   ]
  },
  {
   "cell_type": "code",
   "execution_count": null,
   "id": "173faf4f",
   "metadata": {},
   "outputs": [],
   "source": [
    "정렬"
   ]
  },
  {
   "cell_type": "code",
   "execution_count": 41,
   "id": "83882d30",
   "metadata": {},
   "outputs": [
    {
     "data": {
      "text/plain": [
       "'hi        '"
      ]
     },
     "execution_count": 41,
     "metadata": {},
     "output_type": "execute_result"
    }
   ],
   "source": [
    "f'{\"hi\":<10}'"
   ]
  },
  {
   "cell_type": "code",
   "execution_count": 42,
   "id": "adab7b80",
   "metadata": {},
   "outputs": [
    {
     "data": {
      "text/plain": [
       "'    my    '"
      ]
     },
     "execution_count": 42,
     "metadata": {},
     "output_type": "execute_result"
    }
   ],
   "source": [
    "f'{\"my\":^10}'"
   ]
  },
  {
   "cell_type": "code",
   "execution_count": 43,
   "id": "f69137b2",
   "metadata": {},
   "outputs": [
    {
     "data": {
      "text/plain": [
       "'        me'"
      ]
     },
     "execution_count": 43,
     "metadata": {},
     "output_type": "execute_result"
    }
   ],
   "source": [
    "f'{\"me\":>10}'"
   ]
  },
  {
   "cell_type": "code",
   "execution_count": 44,
   "id": "6f279bfc",
   "metadata": {},
   "outputs": [
    {
     "data": {
      "text/plain": [
       "'====hi===='"
      ]
     },
     "execution_count": 44,
     "metadata": {},
     "output_type": "execute_result"
    }
   ],
   "source": [
    "f'{\"hi\":=^10}'"
   ]
  },
  {
   "cell_type": "code",
   "execution_count": 45,
   "id": "007a49ec",
   "metadata": {},
   "outputs": [
    {
     "data": {
      "text/plain": [
       "'hi!!!!!!!!'"
      ]
     },
     "execution_count": 45,
     "metadata": {},
     "output_type": "execute_result"
    }
   ],
   "source": [
    "f'{\"hi\":!<10}'"
   ]
  },
  {
   "cell_type": "markdown",
   "id": "474d767a",
   "metadata": {},
   "source": [
    "소수점 표현"
   ]
  },
  {
   "cell_type": "code",
   "execution_count": 46,
   "id": "d66f78b5",
   "metadata": {},
   "outputs": [
    {
     "data": {
      "text/plain": [
       "'3.4212'"
      ]
     },
     "execution_count": 46,
     "metadata": {},
     "output_type": "execute_result"
    }
   ],
   "source": [
    "y = 3.42123411\n",
    "f'{y:0.4f}'\n",
    "# 소수점 4번째 자리까지만 표현"
   ]
  },
  {
   "cell_type": "code",
   "execution_count": 49,
   "id": "ec50a164",
   "metadata": {},
   "outputs": [
    {
     "data": {
      "text/plain": [
       "'    3.4212'"
      ]
     },
     "execution_count": 49,
     "metadata": {},
     "output_type": "execute_result"
    }
   ],
   "source": [
    "f'{y:10.4f}'\n",
    "#소수점 4번째 자리까지만 표현, 총 자리수를 10으로 맞춤"
   ]
  },
  {
   "cell_type": "code",
   "execution_count": 50,
   "id": "7df51f14",
   "metadata": {},
   "outputs": [
    {
     "data": {
      "text/plain": [
       "'{and}'"
      ]
     },
     "execution_count": 50,
     "metadata": {},
     "output_type": "execute_result"
    }
   ],
   "source": [
    "f'{{and}}'\n",
    "# f 문자열에서 문자 표시 방법"
   ]
  },
  {
   "cell_type": "markdown",
   "id": "1a323e9f",
   "metadata": {},
   "source": [
    "나 혼자 코딩 p.67 \n",
    "\"!!!python!!!\" 출력하기"
   ]
  },
  {
   "cell_type": "code",
   "execution_count": 56,
   "id": "2ea3ed94",
   "metadata": {},
   "outputs": [
    {
     "data": {
      "text/plain": [
       "'!!!python!!!'"
      ]
     },
     "execution_count": 56,
     "metadata": {},
     "output_type": "execute_result"
    }
   ],
   "source": [
    "\"{0:!^12}\".format(\"python\")"
   ]
  },
  {
   "cell_type": "code",
   "execution_count": 52,
   "id": "9165f3a9",
   "metadata": {},
   "outputs": [
    {
     "data": {
      "text/plain": [
       "'!!!python!!!'"
      ]
     },
     "execution_count": 52,
     "metadata": {},
     "output_type": "execute_result"
    }
   ],
   "source": [
    "f'{\"python\":!^12}'"
   ]
  },
  {
   "cell_type": "markdown",
   "id": "1844208a",
   "metadata": {},
   "source": [
    "문자열 관련 함수"
   ]
  },
  {
   "cell_type": "code",
   "execution_count": 58,
   "id": "f0a1ecd6",
   "metadata": {
    "scrolled": true
   },
   "outputs": [
    {
     "data": {
      "text/plain": [
       "1"
      ]
     },
     "execution_count": 58,
     "metadata": {},
     "output_type": "execute_result"
    }
   ],
   "source": [
    "a = \"ChaeJiHoon\"\n",
    "a.count('a')\n",
    "# a의 개수를 세서 반환"
   ]
  },
  {
   "cell_type": "markdown",
   "id": "4e674638",
   "metadata": {},
   "source": [
    "위치 알려주기 (find)"
   ]
  },
  {
   "cell_type": "code",
   "execution_count": 59,
   "id": "facba535",
   "metadata": {},
   "outputs": [
    {
     "data": {
      "text/plain": [
       "14"
      ]
     },
     "execution_count": 59,
     "metadata": {},
     "output_type": "execute_result"
    }
   ],
   "source": [
    "a = \"Python is the best choice\"\n",
    "a.find('b')\n",
    "# 처음으로 나온 위치 반환"
   ]
  },
  {
   "cell_type": "code",
   "execution_count": 60,
   "id": "d5975fd1",
   "metadata": {},
   "outputs": [
    {
     "data": {
      "text/plain": [
       "-1"
      ]
     },
     "execution_count": 60,
     "metadata": {},
     "output_type": "execute_result"
    }
   ],
   "source": [
    "a.find('k')\n",
    "# 없을 경우 -1 반환"
   ]
  },
  {
   "cell_type": "markdown",
   "id": "3296bd35",
   "metadata": {},
   "source": [
    "위치 알려주기 (index)"
   ]
  },
  {
   "cell_type": "code",
   "execution_count": 61,
   "id": "c431f18c",
   "metadata": {},
   "outputs": [
    {
     "data": {
      "text/plain": [
       "8"
      ]
     },
     "execution_count": 61,
     "metadata": {},
     "output_type": "execute_result"
    }
   ],
   "source": [
    "a = \"Life is too short\"\n",
    "a.index('t')\n",
    "# 문자 t가 처음으로 나온 위치 반환"
   ]
  },
  {
   "cell_type": "code",
   "execution_count": 62,
   "id": "f1073d41",
   "metadata": {},
   "outputs": [
    {
     "ename": "ValueError",
     "evalue": "substring not found",
     "output_type": "error",
     "traceback": [
      "\u001b[1;31m---------------------------------------------------------------------------\u001b[0m",
      "\u001b[1;31mValueError\u001b[0m                                Traceback (most recent call last)",
      "Cell \u001b[1;32mIn[62], line 1\u001b[0m\n\u001b[1;32m----> 1\u001b[0m \u001b[43ma\u001b[49m\u001b[38;5;241;43m.\u001b[39;49m\u001b[43mindex\u001b[49m\u001b[43m(\u001b[49m\u001b[38;5;124;43m'\u001b[39;49m\u001b[38;5;124;43mk\u001b[39;49m\u001b[38;5;124;43m'\u001b[39;49m\u001b[43m)\u001b[49m\n",
      "\u001b[1;31mValueError\u001b[0m: substring not found"
     ]
    }
   ],
   "source": [
    "a.index('k')\n",
    "# k 가 없기 때문에 에러 발생"
   ]
  },
  {
   "cell_type": "markdown",
   "id": "92f3f798",
   "metadata": {},
   "source": [
    "문자열 삽입 (join)"
   ]
  },
  {
   "cell_type": "code",
   "execution_count": 63,
   "id": "fdd50170",
   "metadata": {},
   "outputs": [
    {
     "data": {
      "text/plain": [
       "'a,b,c,d'"
      ]
     },
     "execution_count": 63,
     "metadata": {},
     "output_type": "execute_result"
    }
   ],
   "source": [
    "\",\".join('abcd')\n",
    "# abcd 사이에 ',' 삽입"
   ]
  },
  {
   "cell_type": "code",
   "execution_count": 64,
   "id": "9c58ed5c",
   "metadata": {},
   "outputs": [
    {
     "data": {
      "text/plain": [
       "'a,b,c,d'"
      ]
     },
     "execution_count": 64,
     "metadata": {},
     "output_type": "execute_result"
    }
   ],
   "source": [
    "\",\".join(['a','b','c','d'])\n",
    "# abcd 사이에 ',' 삽입"
   ]
  },
  {
   "cell_type": "markdown",
   "id": "c3b78037",
   "metadata": {},
   "source": [
    "소문자를 대문자로 바꾸기(upper)"
   ]
  },
  {
   "cell_type": "code",
   "execution_count": 65,
   "id": "be2420ec",
   "metadata": {},
   "outputs": [
    {
     "data": {
      "text/plain": [
       "'HI'"
      ]
     },
     "execution_count": 65,
     "metadata": {},
     "output_type": "execute_result"
    }
   ],
   "source": [
    "a = \"hi\"\n",
    "a.upper()"
   ]
  },
  {
   "cell_type": "markdown",
   "id": "e6e53e2a",
   "metadata": {},
   "source": [
    "대문자를 소문자로 바꾸기(lower)"
   ]
  },
  {
   "cell_type": "code",
   "execution_count": 66,
   "id": "f57416dd",
   "metadata": {},
   "outputs": [
    {
     "data": {
      "text/plain": [
       "'hi'"
      ]
     },
     "execution_count": 66,
     "metadata": {},
     "output_type": "execute_result"
    }
   ],
   "source": [
    "a = \"HI\"\n",
    "a.lower()"
   ]
  },
  {
   "cell_type": "markdown",
   "id": "4adbfe42",
   "metadata": {},
   "source": [
    "공백 지우기"
   ]
  },
  {
   "cell_type": "code",
   "execution_count": 67,
   "id": "9be33104",
   "metadata": {},
   "outputs": [
    {
     "data": {
      "text/plain": [
       "'hi '"
      ]
     },
     "execution_count": 67,
     "metadata": {},
     "output_type": "execute_result"
    }
   ],
   "source": [
    "a = ' hi '\n",
    "a.lstrip() \n",
    "# 왼쪽 공백을 지움"
   ]
  },
  {
   "cell_type": "code",
   "execution_count": 68,
   "id": "c815b9ce",
   "metadata": {},
   "outputs": [
    {
     "data": {
      "text/plain": [
       "' hi'"
      ]
     },
     "execution_count": 68,
     "metadata": {},
     "output_type": "execute_result"
    }
   ],
   "source": [
    "a = ' hi '\n",
    "a.rstrip() \n",
    "# 오른쪽 공백을 지움"
   ]
  },
  {
   "cell_type": "code",
   "execution_count": 69,
   "id": "ed2c50c0",
   "metadata": {
    "scrolled": true
   },
   "outputs": [
    {
     "data": {
      "text/plain": [
       "'hi'"
      ]
     },
     "execution_count": 69,
     "metadata": {},
     "output_type": "execute_result"
    }
   ],
   "source": [
    "a = ' hi '\n",
    "a.strip() \n",
    "# 양쪽 공백을 지움"
   ]
  },
  {
   "cell_type": "markdown",
   "id": "021b8a8d",
   "metadata": {},
   "source": [
    "문자열 바꾸기"
   ]
  },
  {
   "cell_type": "code",
   "execution_count": 70,
   "id": "c2e7054f",
   "metadata": {},
   "outputs": [
    {
     "data": {
      "text/plain": [
       "'your leg is too short'"
      ]
     },
     "execution_count": 70,
     "metadata": {},
     "output_type": "execute_result"
    }
   ],
   "source": [
    "a = 'Life is too short'\n",
    "a.replace('Life', 'your leg')"
   ]
  },
  {
   "cell_type": "markdown",
   "id": "96056b95",
   "metadata": {},
   "source": [
    "문자열 나누기"
   ]
  },
  {
   "cell_type": "code",
   "execution_count": 71,
   "id": "3be1f532",
   "metadata": {},
   "outputs": [
    {
     "data": {
      "text/plain": [
       "['Life', 'is', 'too', 'short']"
      ]
     },
     "execution_count": 71,
     "metadata": {},
     "output_type": "execute_result"
    }
   ],
   "source": [
    "a = 'Life is too short'\n",
    "a.split()\n",
    "# 공백을 기준으로 문자열 나눔"
   ]
  },
  {
   "cell_type": "code",
   "execution_count": 72,
   "id": "01df4eb5",
   "metadata": {},
   "outputs": [
    {
     "data": {
      "text/plain": [
       "['a', 'b', 'c', 'd']"
      ]
     },
     "execution_count": 72,
     "metadata": {},
     "output_type": "execute_result"
    }
   ],
   "source": [
    "b = \"a:b:c:d\"\n",
    "b.split(':')\n",
    "# : 기호를 기준으로 문자열 나눔"
   ]
  },
  {
   "cell_type": "code",
   "execution_count": null,
   "id": "4e413ba0",
   "metadata": {},
   "outputs": [],
   "source": []
  },
  {
   "cell_type": "code",
   "execution_count": null,
   "id": "bdc33501",
   "metadata": {},
   "outputs": [],
   "source": []
  },
  {
   "cell_type": "code",
   "execution_count": null,
   "id": "98edd40c",
   "metadata": {},
   "outputs": [],
   "source": []
  },
  {
   "cell_type": "code",
   "execution_count": null,
   "id": "9238c5e2",
   "metadata": {},
   "outputs": [],
   "source": []
  },
  {
   "cell_type": "code",
   "execution_count": null,
   "id": "8237fa0e",
   "metadata": {},
   "outputs": [],
   "source": []
  },
  {
   "cell_type": "code",
   "execution_count": null,
   "id": "11aa1f06",
   "metadata": {},
   "outputs": [],
   "source": []
  },
  {
   "cell_type": "code",
   "execution_count": null,
   "id": "7c354d7b",
   "metadata": {},
   "outputs": [],
   "source": []
  },
  {
   "cell_type": "code",
   "execution_count": null,
   "id": "62b1fe0a",
   "metadata": {},
   "outputs": [],
   "source": []
  },
  {
   "cell_type": "code",
   "execution_count": null,
   "id": "2028e8d6",
   "metadata": {},
   "outputs": [],
   "source": []
  }
 ],
 "metadata": {
  "kernelspec": {
   "display_name": "Python 3 (ipykernel)",
   "language": "python",
   "name": "python3"
  },
  "language_info": {
   "codemirror_mode": {
    "name": "ipython",
    "version": 3
   },
   "file_extension": ".py",
   "mimetype": "text/x-python",
   "name": "python",
   "nbconvert_exporter": "python",
   "pygments_lexer": "ipython3",
   "version": "3.10.9"
  }
 },
 "nbformat": 4,
 "nbformat_minor": 5
}
