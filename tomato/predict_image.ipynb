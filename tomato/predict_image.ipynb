{
 "cells": [
  {
   "cell_type": "code",
   "execution_count": 4,
   "id": "7b777ccb-df8e-469e-ad7b-bc75b7e0e05e",
   "metadata": {},
   "outputs": [
    {
     "ename": "ValueError",
     "evalue": "in user code:\n\n    File \"D:\\Anaconda\\lib\\site-packages\\keras\\engine\\training.py\", line 2041, in predict_function  *\n        return step_function(self, iterator)\n    File \"D:\\Anaconda\\lib\\site-packages\\keras\\engine\\training.py\", line 2027, in step_function  **\n        outputs = model.distribute_strategy.run(run_step, args=(data,))\n    File \"D:\\Anaconda\\lib\\site-packages\\keras\\engine\\training.py\", line 2015, in run_step  **\n        outputs = model.predict_step(data)\n    File \"D:\\Anaconda\\lib\\site-packages\\keras\\engine\\training.py\", line 1983, in predict_step\n        return self(x, training=False)\n    File \"D:\\Anaconda\\lib\\site-packages\\keras\\utils\\traceback_utils.py\", line 70, in error_handler\n        raise e.with_traceback(filtered_tb) from None\n    File \"D:\\Anaconda\\lib\\site-packages\\keras\\engine\\input_spec.py\", line 295, in assert_input_compatibility\n        raise ValueError(\n\n    ValueError: Input 0 of layer \"model\" is incompatible with the layer: expected shape=(None, 480, 272, 3), found shape=(None, 3000, 4000, 3)\n",
     "output_type": "error",
     "traceback": [
      "\u001b[1;31m---------------------------------------------------------------------------\u001b[0m",
      "\u001b[1;31mValueError\u001b[0m                                Traceback (most recent call last)",
      "Cell \u001b[1;32mIn[4], line 22\u001b[0m\n\u001b[0;32m     19\u001b[0m x_test \u001b[38;5;241m=\u001b[39m np\u001b[38;5;241m.\u001b[39mexpand_dims(x_test, axis\u001b[38;5;241m=\u001b[39m\u001b[38;5;241m0\u001b[39m)\n\u001b[0;32m     21\u001b[0m \u001b[38;5;66;03m# 모델 사용하여 예측 수행\u001b[39;00m\n\u001b[1;32m---> 22\u001b[0m predictions \u001b[38;5;241m=\u001b[39m \u001b[43mmodel\u001b[49m\u001b[38;5;241;43m.\u001b[39;49m\u001b[43mpredict\u001b[49m\u001b[43m(\u001b[49m\u001b[43mx_test\u001b[49m\u001b[43m)\u001b[49m\n\u001b[0;32m     24\u001b[0m \u001b[38;5;28;01mdef\u001b[39;00m \u001b[38;5;21mdecode_predictions\u001b[39m(predictions, colors):\n\u001b[0;32m     25\u001b[0m     \u001b[38;5;66;03m# 원-핫 인코딩된 예측 결과를 원래의 라벨로 변환\u001b[39;00m\n\u001b[0;32m     26\u001b[0m     labels \u001b[38;5;241m=\u001b[39m np\u001b[38;5;241m.\u001b[39margmax(predictions, axis\u001b[38;5;241m=\u001b[39m\u001b[38;5;241m-\u001b[39m\u001b[38;5;241m1\u001b[39m)\n",
      "File \u001b[1;32mD:\\Anaconda\\lib\\site-packages\\keras\\utils\\traceback_utils.py:70\u001b[0m, in \u001b[0;36mfilter_traceback.<locals>.error_handler\u001b[1;34m(*args, **kwargs)\u001b[0m\n\u001b[0;32m     67\u001b[0m     filtered_tb \u001b[38;5;241m=\u001b[39m _process_traceback_frames(e\u001b[38;5;241m.\u001b[39m__traceback__)\n\u001b[0;32m     68\u001b[0m     \u001b[38;5;66;03m# To get the full stack trace, call:\u001b[39;00m\n\u001b[0;32m     69\u001b[0m     \u001b[38;5;66;03m# `tf.debugging.disable_traceback_filtering()`\u001b[39;00m\n\u001b[1;32m---> 70\u001b[0m     \u001b[38;5;28;01mraise\u001b[39;00m e\u001b[38;5;241m.\u001b[39mwith_traceback(filtered_tb) \u001b[38;5;28;01mfrom\u001b[39;00m \u001b[38;5;28;01mNone\u001b[39;00m\n\u001b[0;32m     71\u001b[0m \u001b[38;5;28;01mfinally\u001b[39;00m:\n\u001b[0;32m     72\u001b[0m     \u001b[38;5;28;01mdel\u001b[39;00m filtered_tb\n",
      "File \u001b[1;32m~\\AppData\\Local\\Temp\\__autograph_generated_file8nci09rq.py:15\u001b[0m, in \u001b[0;36mouter_factory.<locals>.inner_factory.<locals>.tf__predict_function\u001b[1;34m(iterator)\u001b[0m\n\u001b[0;32m     13\u001b[0m \u001b[38;5;28;01mtry\u001b[39;00m:\n\u001b[0;32m     14\u001b[0m     do_return \u001b[38;5;241m=\u001b[39m \u001b[38;5;28;01mTrue\u001b[39;00m\n\u001b[1;32m---> 15\u001b[0m     retval_ \u001b[38;5;241m=\u001b[39m ag__\u001b[38;5;241m.\u001b[39mconverted_call(ag__\u001b[38;5;241m.\u001b[39mld(step_function), (ag__\u001b[38;5;241m.\u001b[39mld(\u001b[38;5;28mself\u001b[39m), ag__\u001b[38;5;241m.\u001b[39mld(iterator)), \u001b[38;5;28;01mNone\u001b[39;00m, fscope)\n\u001b[0;32m     16\u001b[0m \u001b[38;5;28;01mexcept\u001b[39;00m:\n\u001b[0;32m     17\u001b[0m     do_return \u001b[38;5;241m=\u001b[39m \u001b[38;5;28;01mFalse\u001b[39;00m\n",
      "\u001b[1;31mValueError\u001b[0m: in user code:\n\n    File \"D:\\Anaconda\\lib\\site-packages\\keras\\engine\\training.py\", line 2041, in predict_function  *\n        return step_function(self, iterator)\n    File \"D:\\Anaconda\\lib\\site-packages\\keras\\engine\\training.py\", line 2027, in step_function  **\n        outputs = model.distribute_strategy.run(run_step, args=(data,))\n    File \"D:\\Anaconda\\lib\\site-packages\\keras\\engine\\training.py\", line 2015, in run_step  **\n        outputs = model.predict_step(data)\n    File \"D:\\Anaconda\\lib\\site-packages\\keras\\engine\\training.py\", line 1983, in predict_step\n        return self(x, training=False)\n    File \"D:\\Anaconda\\lib\\site-packages\\keras\\utils\\traceback_utils.py\", line 70, in error_handler\n        raise e.with_traceback(filtered_tb) from None\n    File \"D:\\Anaconda\\lib\\site-packages\\keras\\engine\\input_spec.py\", line 295, in assert_input_compatibility\n        raise ValueError(\n\n    ValueError: Input 0 of layer \"model\" is incompatible with the layer: expected shape=(None, 480, 272, 3), found shape=(None, 3000, 4000, 3)\n"
     ]
    }
   ],
   "source": [
    "import cv2\n",
    "from tensorflow.keras.models import load_model\n",
    "import matplotlib.pyplot as plt\n",
    "import numpy as np\n",
    "from PIL import Image\n",
    "import os\n",
    "\n",
    "os.environ[\"CUDA_VISIBLE_DEVICES\"]=\"-1\"  \n",
    "# 모델 불러오기\n",
    "model = load_model('unet_model_truss2.h5')\n",
    "\n",
    "# 이미지 불러오기\n",
    "img = Image.open(\"D:\\\\1234.jpg\")\n",
    "\n",
    "# 이미지를 넘파이 배열로 변환\n",
    "x_test = np.array(img)\n",
    "\n",
    "# 모델의 입력 형태에 맞게 차원 추가 (예: (height, width, channels) -> (1, height, width, channels))\n",
    "x_test = np.expand_dims(x_test, axis=0)\n",
    "\n",
    "# 모델 사용하여 예측 수행\n",
    "predictions = model.predict(x_test)\n",
    "\n",
    "def decode_predictions(predictions, colors):\n",
    "    # 원-핫 인코딩된 예측 결과를 원래의 라벨로 변환\n",
    "    labels = np.argmax(predictions, axis=-1)\n",
    "\n",
    "    # 각 라벨에 색상 부여\n",
    "    colored_labels = np.zeros((labels.shape[0], labels.shape[1], labels.shape[2], 3))\n",
    "    for i, color in enumerate(colors):\n",
    "        colored_labels[labels == i] = color\n",
    "\n",
    "    return colored_labels\n",
    "\n",
    "# 예측 결과 디코딩\n",
    "colors =  np.array([[0, 0, 0],   # 라벨 0: 검은색\n",
    "                      [255, 0, 0], # 라벨 1: 빨간색\n",
    "                      [0, 255, 0], # 라벨 2: 녹색\n",
    "                      [0, 0, 255]], # 라벨 3: 파란색\n",
    "                     dtype='uint8')  # 각 라벨에 부여할 색상 정의\n",
    "\n",
    "colored_predictions = decode_predictions(predictions, colors)\n",
    "\n",
    "# 예측 결과 시각화\n",
    "for i in range(len(x_test)):  # 모든 이미지 쌍을 출력\n",
    "    fig, ax = plt.subplots(1, 2, figsize=(10, 5))  # 원본 이미지와 예측 결과를 나란히 출력\n",
    "    ax[0].imshow(x_test[i] / 255.0)  # 원본 이미지\n",
    "    ax[0].set_title(f\"Input Image {i+1}\")\n",
    "    ax[1].imshow(colored_predictions[i].astype(np.uint8))  # 디코딩된 예측 결과\n",
    "    ax[1].set_title(f\"Predicted Segmentation {i+1}\")\n",
    "    plt.show()\n"
   ]
  },
  {
   "cell_type": "code",
   "execution_count": null,
   "id": "fea7f45f-de40-4914-b710-491dd8a0a6c2",
   "metadata": {},
   "outputs": [],
   "source": [
    "# 세그멘테이션 맵 출력\n",
    "print(segmented_image)\n",
    "\n",
    "# 세그멘테이션 맵의 고유한 값 출력\n",
    "unique_values = np.unique(segmented_image)\n",
    "print(f'Unique values in the segmented image: {unique_values}')"
   ]
  },
  {
   "cell_type": "code",
   "execution_count": null,
   "id": "59ba93fe-1c81-4e8d-b9cb-2d5300157f82",
   "metadata": {},
   "outputs": [],
   "source": [
    "model.summary()"
   ]
  }
 ],
 "metadata": {
  "kernelspec": {
   "display_name": "Python 3 (ipykernel)",
   "language": "python",
   "name": "python3"
  },
  "language_info": {
   "codemirror_mode": {
    "name": "ipython",
    "version": 3
   },
   "file_extension": ".py",
   "mimetype": "text/x-python",
   "name": "python",
   "nbconvert_exporter": "python",
   "pygments_lexer": "ipython3",
   "version": "3.9.18"
  }
 },
 "nbformat": 4,
 "nbformat_minor": 5
}
