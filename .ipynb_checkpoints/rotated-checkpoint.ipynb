{
 "cells": [
  {
   "cell_type": "code",
   "execution_count": 4,
   "id": "41850498",
   "metadata": {},
   "outputs": [
    {
     "name": "stdout",
     "output_type": "stream",
     "text": [
      "모든 이미지가 크기 조정 및 회전되어 새로운 이름으로 저장되었습니다.\n"
     ]
    }
   ],
   "source": [
    "import os\n",
    "from PIL import Image\n",
    "import glob\n",
    "\n",
    "# 폴더 경로 설정\n",
    "source_folder = 'E:/tomato_data/TOMATO_BLOOMING_IMAGE_ENV_20231205/TOMATO_BLOOMING_IMAGE_ENV_20231205/blossomed_3/rotated'\n",
    "destination_folder = 'E:/tomato_data/TOMATO_BLOOMING_IMAGE_ENV_20231205/TOMATO_BLOOMING_IMAGE_ENV_20231205/blossomed_3/rotated'\n",
    "\n",
    "# 소스 폴더에서 이미지 파일 리스트 가져오기\n",
    "image_files = glob.glob(os.path.join(source_folder, '*.jpg'))  # jpg 형식만 가져오기\n",
    "\n",
    "# 이미지 파일을 하나씩 처리\n",
    "for image_file in image_files:\n",
    "    img = Image.open(image_file)\n",
    "    \n",
    "    # 이미지 크기 조정 (300x300)\n",
    "    img_resized = img.resize((300, 300))\n",
    "    \n",
    "    # 이미지를 45도 회전\n",
    "    img_rotated = img_resized.rotate(90)\n",
    "\n",
    "    # 원본 파일명 추출 (확장자 제외)\n",
    "    base_filename = os.path.basename(image_file)\n",
    "    filename_without_extension = os.path.splitext(base_filename)[0]\n",
    "\n",
    "    # 새 파일명 생성\n",
    "    new_filename = f\"{filename_without_extension}_rotated90.jpg\"\n",
    "    \n",
    "    # 저장할 경로와 파일명 결합\n",
    "    save_path = os.path.join(destination_folder, new_filename)\n",
    "    \n",
    "    # 이미지 저장\n",
    "    img_rotated.save(save_path)\n",
    "\n",
    "print('모든 이미지가 크기 조정 및 회전되어 새로운 이름으로 저장되었습니다.')"
   ]
  },
  {
   "cell_type": "code",
   "execution_count": null,
   "id": "55c8a74f",
   "metadata": {},
   "outputs": [],
   "source": [
    "import os\n",
    "from PIL import Image\n",
    "import glob\n",
    "\n",
    "# 폴더 경로 설정\n",
    "source_folder = 'E:/tomato_data/TOMATO_BLOOMING_IMAGE_ENV_20231124/TOMATO_BLOOMING_IMAGE_ENV_20231124/blossomed_3/rotated'\n",
    "destination_folder = 'E:/tomato_data/TOMATO_BLOOMING_IMAGE_ENV_20231124/TOMATO_BLOOMING_IMAGE_ENV_20231124/blossomed_3/rotated'\n",
    "\n",
    "# 소스 폴더에서 이미지 파일 리스트 가져오기\n",
    "image_files = glob.glob(os.path.join(source_folder, '*.jpg'))  # jpg 형식만 가져오기\n",
    "\n",
    "# 이미지 파일을 하나씩 처리\n",
    "for image_file in image_files:\n",
    "    img = Image.open(image_file)\n",
    "    \n",
    "    # 이미지 크기 조정 (300x300)\n",
    "    #img_resized = img.resize((300, 300))\n",
    "    \n",
    "    # 이미지를 180도 회전\n",
    "    img_rotated = img.rotate(180)\n",
    "\n",
    "    # 원본 파일명 추출 (확장자 제외)\n",
    "    base_filename = os.path.basename(image_file)\n",
    "    filename_without_extension = os.path.splitext(base_filename)[0]\n",
    "\n",
    "    # 새 파일명 생성\n",
    "    new_filename = f\"{filename_without_extension}_rotated180.jpg\"\n",
    "    \n",
    "    # 저장할 경로와 파일명 결합\n",
    "    save_path = os.path.join(destination_folder, new_filename)\n",
    "    \n",
    "    # 이미지 저장\n",
    "    img_rotated.save(save_path)\n",
    "\n",
    "print('모든 이미지가 크기 조정 및 회전되어 새로운 이름으로 저장되었습니다.')"
   ]
  },
  {
   "cell_type": "code",
   "execution_count": 6,
   "id": "c37b541f",
   "metadata": {},
   "outputs": [
    {
     "name": "stdout",
     "output_type": "stream",
     "text": [
      "모든 이미지가 크기 조정 및 회전되어 새로운 이름으로 저장되었습니다.\n"
     ]
    }
   ],
   "source": [
    "\n",
    "# 폴더 경로 설정\n",
    "source_folder = 'E:/tomato_data/TOMATO_BLOOMING_IMAGE_ENV_20231205/TOMATO_BLOOMING_IMAGE_ENV_20231205/blossomed_3'\n",
    "destination_folder = 'E:/tomato_data/TOMATO_BLOOMING_IMAGE_ENV_20231205/TOMATO_BLOOMING_IMAGE_ENV_20231205/blossomed_3/rotated'\n",
    "\n",
    "# 소스 폴더에서 이미지 파일 리스트 가져오기\n",
    "image_files = glob.glob(os.path.join(source_folder, '*.jpg'))  # jpg 형식만 가져오기\n",
    "\n",
    "# 이미지 파일을 하나씩 처리\n",
    "for image_file in image_files:\n",
    "    img = Image.open(image_file)\n",
    "    \n",
    "    # 이미지 크기 조정 (300x300)\n",
    "    img_resized = img.resize((300, 300))\n",
    "    \n",
    "    # 이미지를 45도 회전\n",
    "    img_rotated = img_resized.rotate(270)\n",
    "\n",
    "    # 원본 파일명 추출 (확장자 제외)\n",
    "    base_filename = os.path.basename(image_file)\n",
    "    filename_without_extension = os.path.splitext(base_filename)[0]\n",
    "\n",
    "    # 새 파일명 생성\n",
    "    new_filename = f\"{filename_without_extension}_rotated270.jpg\"\n",
    "    \n",
    "    # 저장할 경로와 파일명 결합\n",
    "    save_path = os.path.join(destination_folder, new_filename)\n",
    "    \n",
    "    # 이미지 저장\n",
    "    img_rotated.save(save_path)\n",
    "\n",
    "print('모든 이미지가 크기 조정 및 회전되어 새로운 이름으로 저장되었습니다.')"
   ]
  }
 ],
 "metadata": {
  "kernelspec": {
   "display_name": "Python 3 (ipykernel)",
   "language": "python",
   "name": "python3"
  },
  "language_info": {
   "codemirror_mode": {
    "name": "ipython",
    "version": 3
   },
   "file_extension": ".py",
   "mimetype": "text/x-python",
   "name": "python",
   "nbconvert_exporter": "python",
   "pygments_lexer": "ipython3",
   "version": "3.10.9"
  }
 },
 "nbformat": 4,
 "nbformat_minor": 5
}
