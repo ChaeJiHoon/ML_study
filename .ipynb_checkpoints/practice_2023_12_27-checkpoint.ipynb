{
 "cells": [
  {
   "cell_type": "markdown",
   "id": "d0188840",
   "metadata": {},
   "source": [
    "#### 2023_12_27일자 연습"
   ]
  },
  {
   "cell_type": "markdown",
   "id": "3254f624",
   "metadata": {},
   "source": [
    "format 함수"
   ]
  },
  {
   "cell_type": "markdown",
   "id": "7b63bd43",
   "metadata": {},
   "source": [
    "2개 이상의 값 넣기"
   ]
  },
  {
   "cell_type": "code",
   "execution_count": 13,
   "id": "bfaecae9",
   "metadata": {},
   "outputs": [
    {
     "data": {
      "text/plain": [
       "'I ate 10 apples. so I was sick for three days'"
      ]
     },
     "execution_count": 13,
     "metadata": {},
     "output_type": "execute_result"
    }
   ],
   "source": [
    "number = 10\n",
    "day = \"three\"\n",
    "\"I ate {0} apples. so I was sick for {1} days\".format(number, day)\n",
    "#{0},{1} 과 같은 인덱스 항목이 format 함수의 입력값으로 순서에 맞게 바뀜"
   ]
  },
  {
   "cell_type": "markdown",
   "id": "c80e4430",
   "metadata": {},
   "source": [
    "이름으로 넣기"
   ]
  },
  {
   "cell_type": "code",
   "execution_count": 17,
   "id": "2b3d290c",
   "metadata": {},
   "outputs": [
    {
     "data": {
      "text/plain": [
       "'I ate 7 apples. so I was sick for 2 days'"
      ]
     },
     "execution_count": 17,
     "metadata": {},
     "output_type": "execute_result"
    }
   ],
   "source": [
    "\"I ate {number} apples. so I was sick for {day} days\".format( day=2,number=7)\n",
    "# {0},{1} 같은 인덱스가 아닌 {name}형태 사용 \n",
    "# {name} 형태를 사용할 경우 반드시 name = value 의 형태의 입력값이 있어야만함\n",
    "# {name} 형태 사용시 format 함수에서 순서는 별로 중요하지 않음"
   ]
  },
  {
   "cell_type": "code",
   "execution_count": 14,
   "id": "78424505",
   "metadata": {},
   "outputs": [
    {
     "data": {
      "text/plain": [
       "'I ate 7 apples. so I was sick for 2 days'"
      ]
     },
     "execution_count": 14,
     "metadata": {},
     "output_type": "execute_result"
    }
   ],
   "source": [
    "\"I ate {0} apples. so I was sick for {day} days\".format(7, day=2)"
   ]
  },
  {
   "cell_type": "markdown",
   "id": "e28ee88c",
   "metadata": {},
   "source": [
    "혼용 가능"
   ]
  },
  {
   "cell_type": "code",
   "execution_count": 15,
   "id": "9a7c5377",
   "metadata": {},
   "outputs": [
    {
     "ename": "SyntaxError",
     "evalue": "positional argument follows keyword argument (1557707721.py, line 1)",
     "output_type": "error",
     "traceback": [
      "\u001b[1;36m  Cell \u001b[1;32mIn[15], line 1\u001b[1;36m\u001b[0m\n\u001b[1;33m    \"I ate {0} apples. so I was sick for {day} days\".format(day=2,7)\u001b[0m\n\u001b[1;37m                                                                   ^\u001b[0m\n\u001b[1;31mSyntaxError\u001b[0m\u001b[1;31m:\u001b[0m positional argument follows keyword argument\n"
     ]
    }
   ],
   "source": [
    "\"I ate {0} apples. so I was sick for {day} days\".format(day=2,7)"
   ]
  },
  {
   "cell_type": "markdown",
   "id": "7f6d87fd",
   "metadata": {},
   "source": [
    "혼용은 가능하지만 인덱스 사용시 순서는 중요"
   ]
  },
  {
   "cell_type": "markdown",
   "id": "6c4b4425",
   "metadata": {},
   "source": [
    "정렬문자"
   ]
  },
  {
   "cell_type": "code",
   "execution_count": 19,
   "id": "253fbeb0",
   "metadata": {},
   "outputs": [
    {
     "data": {
      "text/plain": [
       "'hi        '"
      ]
     },
     "execution_count": 19,
     "metadata": {},
     "output_type": "execute_result"
    }
   ],
   "source": [
    "\"{0:<10}\".format(\"hi\") # 왼쪽 정렬"
   ]
  },
  {
   "cell_type": "code",
   "execution_count": 20,
   "id": "f05ee671",
   "metadata": {},
   "outputs": [
    {
     "data": {
      "text/plain": [
       "'        hi'"
      ]
     },
     "execution_count": 20,
     "metadata": {},
     "output_type": "execute_result"
    }
   ],
   "source": [
    "\"{0:>10}\".format(\"hi\") # 오른쪽 정렬"
   ]
  },
  {
   "cell_type": "code",
   "execution_count": 21,
   "id": "ffb375ad",
   "metadata": {},
   "outputs": [
    {
     "data": {
      "text/plain": [
       "'    hi    '"
      ]
     },
     "execution_count": 21,
     "metadata": {},
     "output_type": "execute_result"
    }
   ],
   "source": [
    "\"{0:^10}\".format(\"hi\") # 가운데 정렬"
   ]
  },
  {
   "cell_type": "markdown",
   "id": "e99260bb",
   "metadata": {},
   "source": [
    "공백 채우기"
   ]
  },
  {
   "cell_type": "code",
   "execution_count": 22,
   "id": "737d1aa6",
   "metadata": {},
   "outputs": [
    {
     "data": {
      "text/plain": [
       "'====hi===='"
      ]
     },
     "execution_count": 22,
     "metadata": {},
     "output_type": "execute_result"
    }
   ],
   "source": [
    "\"{0:=^10}\".format(\"hi\") # 가운데 정렬 및 공백 채우기"
   ]
  },
  {
   "cell_type": "code",
   "execution_count": 26,
   "id": "e2277880",
   "metadata": {},
   "outputs": [
    {
     "data": {
      "text/plain": [
       "'hi????????'"
      ]
     },
     "execution_count": 26,
     "metadata": {},
     "output_type": "execute_result"
    }
   ],
   "source": [
    "\"{0:?<10}\".format(\"hi\") # 왼쪽 정렬 및 공백 채우기"
   ]
  },
  {
   "cell_type": "code",
   "execution_count": 27,
   "id": "50d03cd8",
   "metadata": {
    "scrolled": true
   },
   "outputs": [
    {
     "data": {
      "text/plain": [
       "'ㅗㅗㅗㅗㅗㅗㅗㅗhi'"
      ]
     },
     "execution_count": 27,
     "metadata": {},
     "output_type": "execute_result"
    }
   ],
   "source": [
    "\"{0:ㅗ>10}\".format(\"hi\") # 왼쪽 정렬 및 공백 채우기\n",
    "# 채워 넣을 문자 값은 정렬 문자 <,>,^ 앞에 넣어야함"
   ]
  },
  {
   "cell_type": "markdown",
   "id": "2f293c35",
   "metadata": {},
   "source": [
    "소수점 표현하기"
   ]
  },
  {
   "cell_type": "code",
   "execution_count": 29,
   "id": "d37f12a3",
   "metadata": {},
   "outputs": [
    {
     "data": {
      "text/plain": [
       "'3.4213'"
      ]
     },
     "execution_count": 29,
     "metadata": {},
     "output_type": "execute_result"
    }
   ],
   "source": [
    "y = 3.42134234\n",
    "\"{0:0.4f}\".format(y)"
   ]
  },
  {
   "cell_type": "code",
   "execution_count": 30,
   "id": "dd08080e",
   "metadata": {},
   "outputs": [
    {
     "data": {
      "text/plain": [
       "'    3.4213'"
      ]
     },
     "execution_count": 30,
     "metadata": {},
     "output_type": "execute_result"
    }
   ],
   "source": [
    "\"{0:10.4f}\".format(y)"
   ]
  },
  {
   "cell_type": "markdown",
   "id": "c465841c",
   "metadata": {},
   "source": [
    "문자 표현하기"
   ]
  },
  {
   "cell_type": "code",
   "execution_count": 31,
   "id": "76e7dff8",
   "metadata": {},
   "outputs": [
    {
     "data": {
      "text/plain": [
       "'{and}'"
      ]
     },
     "execution_count": 31,
     "metadata": {},
     "output_type": "execute_result"
    }
   ],
   "source": [
    "\"{{and}}\".format()\n",
    "# 문자를 사용하고 싶으면 중괄호 2개를써서 포매팅해야함"
   ]
  },
  {
   "cell_type": "code",
   "execution_count": 32,
   "id": "16932929",
   "metadata": {},
   "outputs": [
    {
     "ename": "KeyError",
     "evalue": "'and'",
     "output_type": "error",
     "traceback": [
      "\u001b[1;31m---------------------------------------------------------------------------\u001b[0m",
      "\u001b[1;31mKeyError\u001b[0m                                  Traceback (most recent call last)",
      "Cell \u001b[1;32mIn[32], line 1\u001b[0m\n\u001b[1;32m----> 1\u001b[0m \u001b[38;5;124;43m\"\u001b[39;49m\u001b[38;5;132;43;01m{and}\u001b[39;49;00m\u001b[38;5;124;43m\"\u001b[39;49m\u001b[38;5;241;43m.\u001b[39;49m\u001b[43mformat\u001b[49m\u001b[43m(\u001b[49m\u001b[43m)\u001b[49m\n",
      "\u001b[1;31mKeyError\u001b[0m: 'and'"
     ]
    }
   ],
   "source": [
    "\"{and}\".format()\n",
    "#아닐 경우 오류난다"
   ]
  },
  {
   "cell_type": "markdown",
   "id": "b25d8e02",
   "metadata": {},
   "source": [
    "f 문자열 포매팅(파이썬 버전 3.6부터 가능)"
   ]
  },
  {
   "cell_type": "code",
   "execution_count": 33,
   "id": "b5fa7e99",
   "metadata": {},
   "outputs": [
    {
     "data": {
      "text/plain": [
       "'나의 이름은 채지훈입니다. 나이는26입니다'"
      ]
     },
     "execution_count": 33,
     "metadata": {},
     "output_type": "execute_result"
    }
   ],
   "source": [
    "name = \"채지훈\"\n",
    "age = \"26\"\n",
    "f\"나의 이름은 {name}입니다. 나이는{age}입니다\"\n",
    "#f 접두사 사용시 간편함"
   ]
  },
  {
   "cell_type": "code",
   "execution_count": 35,
   "id": "ccb625ef",
   "metadata": {},
   "outputs": [
    {
     "data": {
      "text/plain": [
       "'나의 이름은 채지훈입니다. 나이는27입니다'"
      ]
     },
     "execution_count": 35,
     "metadata": {},
     "output_type": "execute_result"
    }
   ],
   "source": [
    "age = 26\n",
    "f\"나의 이름은 {name}입니다. 나이는{age+1}입니다\"\n",
    "#f 문자열 포매팅 또한 값 참조가 가능"
   ]
  },
  {
   "cell_type": "markdown",
   "id": "496c8df1",
   "metadata": {},
   "source": [
    "딕셔너리 f 문자열 포매팅"
   ]
  },
  {
   "cell_type": "code",
   "execution_count": null,
   "id": "8c01b289",
   "metadata": {},
   "outputs": [],
   "source": [
    "d = {'name':'홍길동', 'age':35}\n",
    "f'나의 이름은 {d[\"name\"]}입니다. 나이는 {d[\"age\"]}입니다.'"
   ]
  },
  {
   "cell_type": "code",
   "execution_count": null,
   "id": "9de2b1d9",
   "metadata": {},
   "outputs": [],
   "source": [
    "정렬"
   ]
  },
  {
   "cell_type": "code",
   "execution_count": 41,
   "id": "9bad7ee5",
   "metadata": {},
   "outputs": [
    {
     "data": {
      "text/plain": [
       "'hi        '"
      ]
     },
     "execution_count": 41,
     "metadata": {},
     "output_type": "execute_result"
    }
   ],
   "source": [
    "f'{\"hi\":<10}'"
   ]
  },
  {
   "cell_type": "code",
   "execution_count": 42,
   "id": "3ceec8b6",
   "metadata": {},
   "outputs": [
    {
     "data": {
      "text/plain": [
       "'    my    '"
      ]
     },
     "execution_count": 42,
     "metadata": {},
     "output_type": "execute_result"
    }
   ],
   "source": [
    "f'{\"my\":^10}'"
   ]
  },
  {
   "cell_type": "code",
   "execution_count": 43,
   "id": "fd804cc1",
   "metadata": {},
   "outputs": [
    {
     "data": {
      "text/plain": [
       "'        me'"
      ]
     },
     "execution_count": 43,
     "metadata": {},
     "output_type": "execute_result"
    }
   ],
   "source": [
    "f'{\"me\":>10}'"
   ]
  },
  {
   "cell_type": "code",
   "execution_count": 44,
   "id": "2caaabaa",
   "metadata": {},
   "outputs": [
    {
     "data": {
      "text/plain": [
       "'====hi===='"
      ]
     },
     "execution_count": 44,
     "metadata": {},
     "output_type": "execute_result"
    }
   ],
   "source": [
    "f'{\"hi\":=^10}'"
   ]
  },
  {
   "cell_type": "code",
   "execution_count": 45,
   "id": "4d6c1c27",
   "metadata": {},
   "outputs": [
    {
     "data": {
      "text/plain": [
       "'hi!!!!!!!!'"
      ]
     },
     "execution_count": 45,
     "metadata": {},
     "output_type": "execute_result"
    }
   ],
   "source": [
    "f'{\"hi\":!<10}'"
   ]
  },
  {
   "cell_type": "markdown",
   "id": "791b3b07",
   "metadata": {},
   "source": [
    "소수점 표현"
   ]
  },
  {
   "cell_type": "code",
   "execution_count": 46,
   "id": "1e0dc46e",
   "metadata": {},
   "outputs": [
    {
     "data": {
      "text/plain": [
       "'3.4212'"
      ]
     },
     "execution_count": 46,
     "metadata": {},
     "output_type": "execute_result"
    }
   ],
   "source": [
    "y = 3.42123411\n",
    "f'{y:0.4f}'\n",
    "# 소수점 4번째 자리까지만 표현"
   ]
  },
  {
   "cell_type": "code",
   "execution_count": 49,
   "id": "1ea43931",
   "metadata": {},
   "outputs": [
    {
     "data": {
      "text/plain": [
       "'    3.4212'"
      ]
     },
     "execution_count": 49,
     "metadata": {},
     "output_type": "execute_result"
    }
   ],
   "source": [
    "f'{y:10.4f}'\n",
    "#소수점 4번째 자리까지만 표현, 총 자리수를 10으로 맞춤"
   ]
  },
  {
   "cell_type": "code",
   "execution_count": 50,
   "id": "c96797f3",
   "metadata": {},
   "outputs": [
    {
     "data": {
      "text/plain": [
       "'{and}'"
      ]
     },
     "execution_count": 50,
     "metadata": {},
     "output_type": "execute_result"
    }
   ],
   "source": [
    "f'{{and}}'\n",
    "# f 문자열에서 문자 표시 방법"
   ]
  },
  {
   "cell_type": "markdown",
   "id": "cd3aa0c6",
   "metadata": {},
   "source": [
    "나 혼자 코딩 p.67 \n",
    "\"!!!python!!!\" 출력하기"
   ]
  },
  {
   "cell_type": "code",
   "execution_count": 56,
   "id": "6c63a72a",
   "metadata": {},
   "outputs": [
    {
     "data": {
      "text/plain": [
       "'!!!python!!!'"
      ]
     },
     "execution_count": 56,
     "metadata": {},
     "output_type": "execute_result"
    }
   ],
   "source": [
    "\"{0:!^12}\".format(\"python\")"
   ]
  },
  {
   "cell_type": "code",
   "execution_count": 52,
   "id": "2b4e8139",
   "metadata": {},
   "outputs": [
    {
     "data": {
      "text/plain": [
       "'!!!python!!!'"
      ]
     },
     "execution_count": 52,
     "metadata": {},
     "output_type": "execute_result"
    }
   ],
   "source": [
    "f'{\"python\":!^12}'"
   ]
  },
  {
   "cell_type": "markdown",
   "id": "25cab3ea",
   "metadata": {},
   "source": [
    "문자열 관련 함수"
   ]
  },
  {
   "cell_type": "code",
   "execution_count": 58,
   "id": "d03b6e1c",
   "metadata": {
    "scrolled": true
   },
   "outputs": [
    {
     "data": {
      "text/plain": [
       "1"
      ]
     },
     "execution_count": 58,
     "metadata": {},
     "output_type": "execute_result"
    }
   ],
   "source": [
    "a = \"ChaeJiHoon\"\n",
    "a.count('a')\n",
    "# a의 개수를 세서 반환"
   ]
  },
  {
   "cell_type": "markdown",
   "id": "bc7a8e03",
   "metadata": {},
   "source": [
    "위치 알려주기 (find)"
   ]
  },
  {
   "cell_type": "code",
   "execution_count": 59,
   "id": "9261cc89",
   "metadata": {},
   "outputs": [
    {
     "data": {
      "text/plain": [
       "14"
      ]
     },
     "execution_count": 59,
     "metadata": {},
     "output_type": "execute_result"
    }
   ],
   "source": [
    "a = \"Python is the best choice\"\n",
    "a.find('b')\n",
    "# 처음으로 나온 위치 반환"
   ]
  },
  {
   "cell_type": "code",
   "execution_count": 60,
   "id": "7656517d",
   "metadata": {},
   "outputs": [
    {
     "data": {
      "text/plain": [
       "-1"
      ]
     },
     "execution_count": 60,
     "metadata": {},
     "output_type": "execute_result"
    }
   ],
   "source": [
    "a.find('k')\n",
    "# 없을 경우 -1 반환"
   ]
  },
  {
   "cell_type": "markdown",
   "id": "c1fb3ec9",
   "metadata": {},
   "source": [
    "위치 알려주기 (index)"
   ]
  },
  {
   "cell_type": "code",
   "execution_count": 61,
   "id": "95fb24f4",
   "metadata": {},
   "outputs": [
    {
     "data": {
      "text/plain": [
       "8"
      ]
     },
     "execution_count": 61,
     "metadata": {},
     "output_type": "execute_result"
    }
   ],
   "source": [
    "a = \"Life is too short\"\n",
    "a.index('t')\n",
    "# 문자 t가 처음으로 나온 위치 반환"
   ]
  },
  {
   "cell_type": "code",
   "execution_count": 62,
   "id": "d0565d9b",
   "metadata": {},
   "outputs": [
    {
     "ename": "ValueError",
     "evalue": "substring not found",
     "output_type": "error",
     "traceback": [
      "\u001b[1;31m---------------------------------------------------------------------------\u001b[0m",
      "\u001b[1;31mValueError\u001b[0m                                Traceback (most recent call last)",
      "Cell \u001b[1;32mIn[62], line 1\u001b[0m\n\u001b[1;32m----> 1\u001b[0m \u001b[43ma\u001b[49m\u001b[38;5;241;43m.\u001b[39;49m\u001b[43mindex\u001b[49m\u001b[43m(\u001b[49m\u001b[38;5;124;43m'\u001b[39;49m\u001b[38;5;124;43mk\u001b[39;49m\u001b[38;5;124;43m'\u001b[39;49m\u001b[43m)\u001b[49m\n",
      "\u001b[1;31mValueError\u001b[0m: substring not found"
     ]
    }
   ],
   "source": [
    "a.index('k')\n",
    "# k 가 없기 때문에 에러 발생"
   ]
  },
  {
   "cell_type": "markdown",
   "id": "5c8b66cd",
   "metadata": {},
   "source": [
    "문자열 삽입 (join)"
   ]
  },
  {
   "cell_type": "code",
   "execution_count": 63,
   "id": "e692a0ea",
   "metadata": {},
   "outputs": [
    {
     "data": {
      "text/plain": [
       "'a,b,c,d'"
      ]
     },
     "execution_count": 63,
     "metadata": {},
     "output_type": "execute_result"
    }
   ],
   "source": [
    "\",\".join('abcd')\n",
    "# abcd 사이에 ',' 삽입"
   ]
  },
  {
   "cell_type": "code",
   "execution_count": 64,
   "id": "962b570a",
   "metadata": {},
   "outputs": [
    {
     "data": {
      "text/plain": [
       "'a,b,c,d'"
      ]
     },
     "execution_count": 64,
     "metadata": {},
     "output_type": "execute_result"
    }
   ],
   "source": [
    "\",\".join(['a','b','c','d'])\n",
    "# abcd 사이에 ',' 삽입"
   ]
  },
  {
   "cell_type": "markdown",
   "id": "ee6acc32",
   "metadata": {},
   "source": [
    "소문자를 대문자로 바꾸기(upper)"
   ]
  },
  {
   "cell_type": "code",
   "execution_count": 65,
   "id": "2bd6e796",
   "metadata": {},
   "outputs": [
    {
     "data": {
      "text/plain": [
       "'HI'"
      ]
     },
     "execution_count": 65,
     "metadata": {},
     "output_type": "execute_result"
    }
   ],
   "source": [
    "a = \"hi\"\n",
    "a.upper()"
   ]
  },
  {
   "cell_type": "markdown",
   "id": "6a9dc575",
   "metadata": {},
   "source": [
    "대문자를 소문자로 바꾸기(lower)"
   ]
  },
  {
   "cell_type": "code",
   "execution_count": 66,
   "id": "94879371",
   "metadata": {},
   "outputs": [
    {
     "data": {
      "text/plain": [
       "'hi'"
      ]
     },
     "execution_count": 66,
     "metadata": {},
     "output_type": "execute_result"
    }
   ],
   "source": [
    "a = \"HI\"\n",
    "a.lower()"
   ]
  },
  {
   "cell_type": "markdown",
   "id": "2112735c",
   "metadata": {},
   "source": [
    "공백 지우기"
   ]
  },
  {
   "cell_type": "code",
   "execution_count": 67,
   "id": "ad1b60aa",
   "metadata": {},
   "outputs": [
    {
     "data": {
      "text/plain": [
       "'hi '"
      ]
     },
     "execution_count": 67,
     "metadata": {},
     "output_type": "execute_result"
    }
   ],
   "source": [
    "a = ' hi '\n",
    "a.lstrip() \n",
    "# 왼쪽 공백을 지움"
   ]
  },
  {
   "cell_type": "code",
   "execution_count": 68,
   "id": "4083e8e3",
   "metadata": {},
   "outputs": [
    {
     "data": {
      "text/plain": [
       "' hi'"
      ]
     },
     "execution_count": 68,
     "metadata": {},
     "output_type": "execute_result"
    }
   ],
   "source": [
    "a = ' hi '\n",
    "a.rstrip() \n",
    "# 오른쪽 공백을 지움"
   ]
  },
  {
   "cell_type": "code",
   "execution_count": 69,
   "id": "4d605048",
   "metadata": {
    "scrolled": true
   },
   "outputs": [
    {
     "data": {
      "text/plain": [
       "'hi'"
      ]
     },
     "execution_count": 69,
     "metadata": {},
     "output_type": "execute_result"
    }
   ],
   "source": [
    "a = ' hi '\n",
    "a.strip() \n",
    "# 양쪽 공백을 지움"
   ]
  },
  {
   "cell_type": "markdown",
   "id": "dbd7411b",
   "metadata": {},
   "source": [
    "문자열 바꾸기"
   ]
  },
  {
   "cell_type": "code",
   "execution_count": 70,
   "id": "dc425f89",
   "metadata": {},
   "outputs": [
    {
     "data": {
      "text/plain": [
       "'your leg is too short'"
      ]
     },
     "execution_count": 70,
     "metadata": {},
     "output_type": "execute_result"
    }
   ],
   "source": [
    "a = 'Life is too short'\n",
    "a.replace('Life', 'your leg')"
   ]
  },
  {
   "cell_type": "code",
   "execution_count": null,
   "id": "f554bba9",
   "metadata": {},
   "outputs": [],
   "source": []
  },
  {
   "cell_type": "markdown",
   "id": "887c26e6",
   "metadata": {},
   "source": []
  },
  {
   "cell_type": "code",
   "execution_count": null,
   "id": "1761ed2c",
   "metadata": {},
   "outputs": [],
   "source": []
  },
  {
   "cell_type": "code",
   "execution_count": null,
   "id": "23c610e2",
   "metadata": {},
   "outputs": [],
   "source": []
  },
  {
   "cell_type": "code",
   "execution_count": null,
   "id": "4fd5e74a",
   "metadata": {},
   "outputs": [],
   "source": []
  },
  {
   "cell_type": "code",
   "execution_count": null,
   "id": "f0be6151",
   "metadata": {},
   "outputs": [],
   "source": []
  },
  {
   "cell_type": "code",
   "execution_count": null,
   "id": "c9aa7ad5",
   "metadata": {},
   "outputs": [],
   "source": []
  },
  {
   "cell_type": "code",
   "execution_count": null,
   "id": "6b107aef",
   "metadata": {},
   "outputs": [],
   "source": []
  },
  {
   "cell_type": "code",
   "execution_count": null,
   "id": "1d764f25",
   "metadata": {},
   "outputs": [],
   "source": []
  },
  {
   "cell_type": "code",
   "execution_count": null,
   "id": "c1bfcd51",
   "metadata": {},
   "outputs": [],
   "source": []
  },
  {
   "cell_type": "code",
   "execution_count": null,
   "id": "b73036c7",
   "metadata": {},
   "outputs": [],
   "source": []
  },
  {
   "cell_type": "code",
   "execution_count": null,
   "id": "340bf329",
   "metadata": {},
   "outputs": [],
   "source": []
  }
 ],
 "metadata": {
  "kernelspec": {
   "display_name": "Python 3 (ipykernel)",
   "language": "python",
   "name": "python3"
  },
  "language_info": {
   "codemirror_mode": {
    "name": "ipython",
    "version": 3
   },
   "file_extension": ".py",
   "mimetype": "text/x-python",
   "name": "python",
   "nbconvert_exporter": "python",
   "pygments_lexer": "ipython3",
   "version": "3.10.9"
  }
 },
 "nbformat": 4,
 "nbformat_minor": 5
}
