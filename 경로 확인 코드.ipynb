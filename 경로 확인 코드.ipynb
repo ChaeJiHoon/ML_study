{
 "cells": [
  {
   "cell_type": "code",
   "execution_count": 1,
   "id": "3231f3db",
   "metadata": {},
   "outputs": [
    {
     "name": "stdout",
     "output_type": "stream",
     "text": [
      "WARNING:tensorflow:From D:\\Anaconda\\lib\\site-packages\\keras\\src\\losses.py:2976: The name tf.losses.sparse_softmax_cross_entropy is deprecated. Please use tf.compat.v1.losses.sparse_softmax_cross_entropy instead.\n",
      "\n",
      "unblossomed 디렉토리의 이미지 개수: 200\n",
      "blossomed_1 디렉토리의 이미지 개수: 659\n",
      "blossomed_2 디렉토리의 이미지 개수: 644\n",
      "blossomed_3_or_more 디렉토리의 이미지 개수: 93\n",
      "총 이미지 개수: 1596\n"
     ]
    }
   ],
   "source": [
    "import os\n",
    "import glob\n",
    "import numpy as np\n",
    "from sklearn.model_selection import train_test_split\n",
    "from sklearn.utils.class_weight import compute_class_weight\n",
    "from tensorflow.keras.preprocessing.image import load_img, img_to_array\n",
    "from tensorflow.keras.models import Sequential\n",
    "from tensorflow.keras.layers import Conv2D, MaxPooling2D, Flatten, Dense, Dropout\n",
    "from tensorflow.keras.optimizers import Adam\n",
    "import matplotlib.pyplot as plt\n",
    "\n",
    "class_dirs = {\n",
    "    'unblossomed': 'E:/tomato_data/TOMATO_BLOOMING_IMAGE_ENV_20231124/TOMATO_BLOOMING_IMAGE_ENV_20231124/unblossomed',\n",
    "    'blossomed_1': 'E:/tomato_data/TOMATO_BLOOMING_IMAGE_ENV_20231124/TOMATO_BLOOMING_IMAGE_ENV_20231124/blossomed_1',\n",
    "    'blossomed_2': 'E:/tomato_data/TOMATO_BLOOMING_IMAGE_ENV_20231124/TOMATO_BLOOMING_IMAGE_ENV_20231124/blossomed_2',\n",
    "    'blossomed_3_or_more': 'E:/tomato_data/TOMATO_BLOOMING_IMAGE_ENV_20231124/TOMATO_BLOOMING_IMAGE_ENV_20231124/blossomed_3/rotated'\n",
    "}\n",
    "\n",
    "total_image_count = 0\n",
    "\n",
    "# 각 경로가 실제로 존재하는지 확인하고, 각 클래스별로 이미지 개수를 카운트\n",
    "for class_label, class_dir in class_dirs.items():\n",
    "    # 해당 디렉토리가 존재하는지 확인\n",
    "    if not os.path.exists(class_dir):\n",
    "        print(f\"경로가 존재하지 않습니다: {class_dir}\")\n",
    "        continue\n",
    "    \n",
    "    # 해당 디렉토리의 모든 jpg 이미지 파일 개수 카운트\n",
    "    image_files = glob.glob(os.path.join(class_dir, '*.jpg'))\n",
    "    image_count = len(image_files)\n",
    "    total_image_count += image_count\n",
    "    print(f\"{class_label} 디렉토리의 이미지 개수: {image_count}\")\n",
    "\n",
    "print(f\"총 이미지 개수: {total_image_count}\")"
   ]
  }
 ],
 "metadata": {
  "kernelspec": {
   "display_name": "Python 3 (ipykernel)",
   "language": "python",
   "name": "python3"
  },
  "language_info": {
   "codemirror_mode": {
    "name": "ipython",
    "version": 3
   },
   "file_extension": ".py",
   "mimetype": "text/x-python",
   "name": "python",
   "nbconvert_exporter": "python",
   "pygments_lexer": "ipython3",
   "version": "3.10.9"
  }
 },
 "nbformat": 4,
 "nbformat_minor": 5
}
