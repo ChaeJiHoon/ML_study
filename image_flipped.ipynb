{
 "cells": [
  {
   "cell_type": "code",
   "execution_count": 10,
   "id": "4c6b4187",
   "metadata": {},
   "outputs": [
    {
     "name": "stdout",
     "output_type": "stream",
     "text": [
      "Flipped images are saved in: E:/tomato_data/TOMATO_BLOOMING_IMAGE_ENV_20231124/TOMATO_BLOOMING_IMAGE_ENV_20231124/blossomed_3/rotated\n"
     ]
    }
   ],
   "source": [
    "import glob\n",
    "from PIL import Image\n",
    "import os\n",
    "\n",
    "# 결과를 저장할 폴더 경로\n",
    "output_folder = os.path.join(os.getcwd(), 'E:/tomato_data/TOMATO_BLOOMING_IMAGE_ENV_20231124/TOMATO_BLOOMING_IMAGE_ENV_20231124/blossomed_3/rotated')\n",
    "\n",
    "# 결과를 저장할 폴더가 없다면 생성\n",
    "if not os.path.exists(output_folder):\n",
    "    os.makedirs(output_folder)\n",
    "\n",
    "# 이미지 경로 찾기\n",
    "image_paths = glob.glob('E:/tomato_data/TOMATO_BLOOMING_IMAGE_ENV_20231124/TOMATO_BLOOMING_IMAGE_ENV_20231124/blossomed_3/rotated/*.jpg', recursive=True)\n",
    "\n",
    "# 모든 이미지에 대해\n",
    "for image_path in image_paths:\n",
    "    # 이미지 로드\n",
    "    img = Image.open(image_path)\n",
    "    \n",
    "    # 이미지 좌우 반전\n",
    "    flipped_img = img.transpose(Image.FLIP_LEFT_RIGHT)\n",
    "    \n",
    "    # 파일 이름 생성\n",
    "    filename = os.path.basename(image_path)\n",
    "    name, ext = os.path.splitext(filename)\n",
    "    new_filename = f\"{name}_flipped{ext}\"\n",
    "    \n",
    "    # 이미지 저장\n",
    "    flipped_img.save(os.path.join(output_folder, new_filename))\n",
    "\n",
    "# 결과 폴더 경로 출력\n",
    "print(f\"Flipped images are saved in: {output_folder}\")"
   ]
  },
  {
   "cell_type": "code",
   "execution_count": null,
   "id": "519020a1",
   "metadata": {},
   "outputs": [],
   "source": []
  }
 ],
 "metadata": {
  "kernelspec": {
   "display_name": "Python 3 (ipykernel)",
   "language": "python",
   "name": "python3"
  },
  "language_info": {
   "codemirror_mode": {
    "name": "ipython",
    "version": 3
   },
   "file_extension": ".py",
   "mimetype": "text/x-python",
   "name": "python",
   "nbconvert_exporter": "python",
   "pygments_lexer": "ipython3",
   "version": "3.10.9"
  }
 },
 "nbformat": 4,
 "nbformat_minor": 5
}
